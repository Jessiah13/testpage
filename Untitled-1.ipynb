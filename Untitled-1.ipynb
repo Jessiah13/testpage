{
 "cells": [
  {
   "cell_type": "code",
   "execution_count": 11,
   "metadata": {},
   "outputs": [],
   "source": [
    "from PyPDF4 import PdfFileReader\n",
    "import pyttsx3"
   ]
  },
  {
   "cell_type": "code",
   "execution_count": 12,
   "metadata": {},
   "outputs": [
    {
     "name": "stdout",
     "output_type": "stream",
     "text": [
      "\n",
      "\n",
      "\n",
      "\n",
      "\n",
      "\n",
      "\n",
      "\n",
      "\n",
      "\n",
      "\n",
      "\n"
     ]
    },
    {
     "name": "stderr",
     "output_type": "stream",
     "text": [
      "PdfReadWarning: Superfluous whitespace found in object header b'1' b'0' [pdf.py:1730]\n",
      "PdfReadWarning: Superfluous whitespace found in object header b'2' b'0' [pdf.py:1730]\n",
      "PdfReadWarning: Superfluous whitespace found in object header b'3' b'0' [pdf.py:1730]\n",
      "PdfReadWarning: Superfluous whitespace found in object header b'12' b'0' [pdf.py:1730]\n"
     ]
    }
   ],
   "source": [
    "speak = pyttsx3.init()\n",
    "\n",
    "def read_pdf(path):\n",
    "    with open(path, 'rb') as f:\n",
    "        pdf_read = PdfFileReader(f)\n",
    "        for x in range(pdf_read.getNumPages()):\n",
    "            page = pdf_read.getPage(x)\n",
    "            page_content = page.extractText()\n",
    "            print(page_content)\n",
    "            speak.save_to_file(page_content, 'test.mp3')\n",
    "            speak.runAndWait()\n",
    "            speak.stop()\n",
    "\n",
    "read_pdf('Resignation letter.pdf')"
   ]
  }
 ],
 "metadata": {
  "kernelspec": {
   "display_name": "Python 3",
   "language": "python",
   "name": "python3"
  },
  "language_info": {
   "codemirror_mode": {
    "name": "ipython",
    "version": 3
   },
   "file_extension": ".py",
   "mimetype": "text/x-python",
   "name": "python",
   "nbconvert_exporter": "python",
   "pygments_lexer": "ipython3",
   "version": "3.10.9"
  },
  "orig_nbformat": 4,
  "vscode": {
   "interpreter": {
    "hash": "597c298baddc4fed1f799432d0c74c50aedef5845e57e6cb8b7bf8dba211ae64"
   }
  }
 },
 "nbformat": 4,
 "nbformat_minor": 2
}
